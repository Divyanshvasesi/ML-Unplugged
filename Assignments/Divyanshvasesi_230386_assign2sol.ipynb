{
 "cells": [
  {
   "cell_type": "code",
   "execution_count": 1,
   "id": "955a67c6-3728-430b-ba24-1030d1b7f1c1",
   "metadata": {},
   "outputs": [
    {
     "name": "stdout",
     "output_type": "stream",
     "text": [
      "Q1(a): Gini index before split: 0.3911\n",
      "Q1(b): Weighted Gini index after split: 0.3933\n",
      "=> The split does NOT improve purity.\n"
     ]
    }
   ],
   "source": [
    "# Assignment 2 Solution\n",
    "import numpy as np\n",
    "\n",
    "\n",
    "# Question 1: Gini Index\n",
    "\n",
    "\n",
    "def gini_index(pos, neg):\n",
    "    total = pos + neg\n",
    "    p_pos = pos / total\n",
    "    p_neg = neg / total\n",
    "    return 1 - (p_pos**2 + p_neg**2)\n",
    "\n",
    "# Q1(a) Gini before splitting\n",
    "gini_before = gini_index(220, 80)\n",
    "print(f\"Q1(a): Gini index before split: {gini_before:.4f}\")\n",
    "\n",
    "# Q1(b) Gini after splitting:\n",
    "# Left: 90 pos, 10 neg → total 100\n",
    "# Right: 100 pos, 100 neg → total 200\n",
    "\n",
    "gini_left = gini_index(90, 10)\n",
    "gini_right = gini_index(100, 100)\n",
    "\n",
    "weighted_gini = (100/300) * gini_left + (200/300) * gini_right\n",
    "print(f\"Q1(b): Weighted Gini index after split: {weighted_gini:.4f}\")\n",
    "\n",
    "if weighted_gini < gini_before:\n",
    "    print(\"=> The split improves purity.\")\n",
    "else:\n",
    "    print(\"=> The split does NOT improve purity.\")\n",
    "\n"
   ]
  },
  {
   "cell_type": "code",
   "execution_count": 2,
   "id": "f75a9f23-efad-4f98-be4b-fe53535e94a1",
   "metadata": {},
   "outputs": [
    {
     "name": "stdout",
     "output_type": "stream",
     "text": [
      "Q2(a): Best split is on 'X1' at value 4 with total SSE = 82.75\n",
      "\n",
      "Q2(b): First split groups:\n",
      "Left group:\n",
      "   X1  X2   Y\n",
      "0   1   5  10\n",
      "1   2   6  12\n",
      "2   3   8  15\n",
      "3   4  10  18\n",
      "\n",
      "Right group:\n",
      "   X1  X2   Y\n",
      "4   5  12  21\n",
      "5   6  15  25\n",
      "6   7  18  28\n",
      "7   8  20  30\n"
     ]
    }
   ],
   "source": [
    "\n",
    "# Question 2: Regression Tree Split using SSE\n",
    "\n",
    "\n",
    "# Dataset from image\n",
    "import pandas as pd\n",
    "\n",
    "data = pd.DataFrame({\n",
    "    'X1': [1, 2, 3, 4, 5, 6, 7, 8],\n",
    "    'X2': [5, 6, 8, 10, 12, 15, 18, 20],\n",
    "    'Y':  [10, 12, 15, 18, 21, 25, 28, 30]\n",
    "})\n",
    "\n",
    "# Function to compute SSE\n",
    "\n",
    "def compute_sse(y):\n",
    "    if len(y) == 0:\n",
    "        return 0\n",
    "    mean_y = np.mean(y)\n",
    "    return np.sum((y - mean_y)**2)\n",
    "\n",
    "# Q2(a): Try all possible split points for X1 and X2\n",
    "\n",
    "best_sse = float('inf')\n",
    "best_split = None\n",
    "best_feature = None\n",
    "\n",
    "for feature in ['X1', 'X2']:\n",
    "    values = data[feature].unique()\n",
    "    for split_val in values:\n",
    "        left_y = data[data[feature] <= split_val]['Y']\n",
    "        right_y = data[data[feature] > split_val]['Y']\n",
    "        total_sse = compute_sse(left_y) + compute_sse(right_y)\n",
    "\n",
    "        if total_sse < best_sse:\n",
    "            best_sse = total_sse\n",
    "            best_split = split_val\n",
    "            best_feature = feature\n",
    "\n",
    "print(f\"Q2(a): Best split is on '{best_feature}' at value {best_split} with total SSE = {best_sse:.2f}\")\n",
    "\n",
    "# Q2(b): Perform the first split\n",
    "left_group = data[data[best_feature] <= best_split]\n",
    "right_group = data[data[best_feature] > best_split]\n",
    "\n",
    "print(\"\\nQ2(b): First split groups:\")\n",
    "print(\"Left group:\")\n",
    "print(left_group)\n",
    "\n",
    "print(\"\\nRight group:\")\n",
    "print(right_group)\n"
   ]
  },
  {
   "cell_type": "code",
   "execution_count": null,
   "id": "1e9bb02e-434d-4391-bf78-db1794e99a27",
   "metadata": {},
   "outputs": [],
   "source": []
  }
 ],
 "metadata": {
  "kernelspec": {
   "display_name": "Python 3 (ipykernel)",
   "language": "python",
   "name": "python3"
  },
  "language_info": {
   "codemirror_mode": {
    "name": "ipython",
    "version": 3
   },
   "file_extension": ".py",
   "mimetype": "text/x-python",
   "name": "python",
   "nbconvert_exporter": "python",
   "pygments_lexer": "ipython3",
   "version": "3.12.2"
  }
 },
 "nbformat": 4,
 "nbformat_minor": 5
}
